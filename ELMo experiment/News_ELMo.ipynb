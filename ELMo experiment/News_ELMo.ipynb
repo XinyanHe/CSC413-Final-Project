{
  "nbformat": 4,
  "nbformat_minor": 0,
  "metadata": {
    "colab": {
      "name": "News_ELMo.ipynb",
      "provenance": [],
      "collapsed_sections": [],
      "machine_shape": "hm"
    },
    "kernelspec": {
      "display_name": "Python 3",
      "name": "python3"
    }
  },
  "cells": [
    {
      "cell_type": "code",
      "metadata": {
        "id": "bt-E6yU1B5JC"
      },
      "source": [
        "# Code reference: \n",
        "# https://medium.com/@duyanhnguyen_38925/create-a-strong-text-classification-with-the-help-from-elmo-e90809ba29da\n",
        "# https://www.kaggle.com/saikumar587/text-classification-elmo\n",
        "\n",
        "import pandas as pd\n",
        "\n",
        "#import the train and test data\n",
        "url = 'https://raw.githubusercontent.com/XinyanHe/413Dataset/master/news.csv'\n",
        "train_news = pd.read_csv(url)\n",
        "\n",
        "#pick 5000 data from datasets\n",
        "train_news = train_news.head(5000)\n",
        "# !\n",
        "# training data: 4000\n",
        "# test data: 1000"
      ],
      "execution_count": null,
      "outputs": []
    },
    {
      "cell_type": "code",
      "metadata": {
        "id": "OSjMIoqkLMXh"
      },
      "source": [
        "#install ELMO\n",
        "import tensorflow as tf\n",
        "import tensorflow_hub as hub\n",
        "import tensorflow.compat.v1 as tf1\n",
        "import numpy as np\n",
        "\n",
        "tf1.disable_eager_execution()\n",
        "tf1.disable_v2_behavior()\n",
        "\n",
        "#download the elmo model\n",
        "elmo = hub.Module(\"https://tfhub.dev/google/elmo/3\", trainable=True)\n",
        "\n",
        "#create an embedding layer for elmo\n",
        "def elmo_embedding(x):\n",
        "    return elmo(tf.squeeze(tf.cast(x,tf.string)),signature='default',as_dict=True)[\"default\"]"
      ],
      "execution_count": null,
      "outputs": []
    },
    {
      "cell_type": "code",
      "metadata": {
        "id": "f6dy3yYtTWWv"
      },
      "source": [
        "from keras.layers import Input, Lambda, Dense\n",
        "from keras.models import Model\n",
        "import keras.regularizers\n",
        "\n",
        "def build_model(): \n",
        "    input_text = Input(shape=(1,), dtype=tf.string)\n",
        "    embedding = Lambda(elmo_embedding, output_shape=(1024, ))(input_text)\n",
        "    dense = Dense(256, activation='relu')(embedding)\n",
        "    pred = Dense(4, activation='softmax')(dense)\n",
        "    model = Model(inputs=[input_text], outputs=pred)\n",
        "    model.compile(loss='categorical_crossentropy', optimizer='adam', metrics=['accuracy'])\n",
        "    return model"
      ],
      "execution_count": null,
      "outputs": []
    },
    {
      "cell_type": "code",
      "metadata": {
        "id": "6CHvJq8Vr3xg"
      },
      "source": [
        "def encode(le_enc, labels):\n",
        "    enc = le_enc.transform(labels)\n",
        "    return keras.utils.to_categorical(enc)\n",
        "\n",
        "def decode(le_enc, one_hot):\n",
        "    dec = np.argmax(one_hot, axis=1)\n",
        "    return le_enc.inverse_transform(dec)"
      ],
      "execution_count": null,
      "outputs": []
    },
    {
      "cell_type": "code",
      "metadata": {
        "colab": {
          "base_uri": "https://localhost:8080/"
        },
        "id": "gyK8j_3fa5XK",
        "outputId": "292078a1-18d3-4f45-f965-c4a3a3b21744"
      },
      "source": [
        "#build our classification model\n",
        "model_elmo = build_model()\n",
        "model_elmo.summary()"
      ],
      "execution_count": null,
      "outputs": [
        {
          "output_type": "stream",
          "text": [
            "INFO:tensorflow:Saver not created because there are no variables in the graph to restore\n"
          ],
          "name": "stdout"
        },
        {
          "output_type": "stream",
          "text": [
            "INFO:tensorflow:Saver not created because there are no variables in the graph to restore\n"
          ],
          "name": "stderr"
        },
        {
          "output_type": "stream",
          "text": [
            "Model: \"model_1\"\n",
            "_________________________________________________________________\n",
            "Layer (type)                 Output Shape              Param #   \n",
            "=================================================================\n",
            "input_2 (InputLayer)         [(None, 1)]               0         \n",
            "_________________________________________________________________\n",
            "lambda_1 (Lambda)            (None, 1024)              0         \n",
            "_________________________________________________________________\n",
            "dense_2 (Dense)              (None, 256)               262400    \n",
            "_________________________________________________________________\n",
            "dense_3 (Dense)              (None, 4)                 1028      \n",
            "=================================================================\n",
            "Total params: 263,428\n",
            "Trainable params: 263,428\n",
            "Non-trainable params: 0\n",
            "_________________________________________________________________\n"
          ],
          "name": "stdout"
        }
      ]
    },
    {
      "cell_type": "code",
      "metadata": {
        "id": "F9WNiEuVre-t"
      },
      "source": [
        "from sklearn import metrics,preprocessing,model_selection\n",
        "from sklearn.metrics import accuracy_score\n",
        "from keras.utils import to_categorical\n",
        "\n",
        "X = train_news['Description'].tolist()\n",
        "y = train_news['Class Index'].tolist()\n",
        "\n",
        "#fitting the model\n",
        "le = preprocessing.LabelEncoder()\n",
        "le.fit(y)\n",
        "\n",
        "y_en = encode(le,y)\n",
        "x_train, x_test, y_train, y_test = model_selection.train_test_split(np.asarray(X), np.asarray(y_en), test_size=0.2, random_state=42)"
      ],
      "execution_count": null,
      "outputs": []
    },
    {
      "cell_type": "code",
      "metadata": {
        "colab": {
          "base_uri": "https://localhost:8080/"
        },
        "id": "os4UFvuBVkJ-",
        "outputId": "3da0ff28-6bcc-4ae0-f7b9-874d768ee854"
      },
      "source": [
        "with tf1.Session() as session:\n",
        "    tf1.compat.v1.keras.backend.set_session(session)\n",
        "    session.run(tf1.global_variables_initializer())  \n",
        "    session.run(tf1.tables_initializer())\n",
        "    # split our data into train and test dataset\n",
        "    history = model_elmo.fit(x_train, y_train, epochs=2, batch_size=16)\n",
        "    model_elmo.save_weights('./response-elmo-model.h5')"
      ],
      "execution_count": null,
      "outputs": [
        {
          "output_type": "stream",
          "text": [
            "Train on 4000 samples\n",
            "Epoch 1/2\n",
            "4000/4000 [==============================] - 755s 189ms/sample - loss: 0.4022 - acc: 0.8560\n",
            "Epoch 2/2\n",
            "4000/4000 [==============================] - 810s 202ms/sample - loss: 0.2740 - acc: 0.9038\n"
          ],
          "name": "stdout"
        }
      ]
    },
    {
      "cell_type": "markdown",
      "metadata": {
        "id": "2Vx-E3ENp3RF"
      },
      "source": [
        "Run the test set."
      ]
    },
    {
      "cell_type": "code",
      "metadata": {
        "colab": {
          "base_uri": "https://localhost:8080/"
        },
        "id": "__nzfjFckJ-t",
        "outputId": "d8e156a9-4e16-4b70-f08f-ac72aa7bcc13"
      },
      "source": [
        "with tf1.Session() as session:\n",
        "    tf1.compat.v1.keras.backend.set_session(session)\n",
        "    session.run(tf1.global_variables_initializer())  \n",
        "    session.run(tf1.tables_initializer())\n",
        "    model_elmo.load_weights('./response-elmo-model.h5')  \n",
        "    predicts  = model_elmo.predict(x_test, batch_size=16)"
      ],
      "execution_count": null,
      "outputs": [
        {
          "output_type": "stream",
          "text": [
            "/usr/local/lib/python3.7/dist-packages/tensorflow/python/keras/engine/training.py:2325: UserWarning: `Model.state_updates` will be removed in a future version. This property should not be used in TensorFlow 2.0, as `updates` are applied automatically.\n",
            "  warnings.warn('`Model.state_updates` will be removed in a future version. '\n"
          ],
          "name": "stderr"
        }
      ]
    },
    {
      "cell_type": "code",
      "metadata": {
        "colab": {
          "base_uri": "https://localhost:8080/"
        },
        "id": "SckdGKkkV2BX",
        "outputId": "17a1ade3-d6a7-4a54-e1b5-74cc0b8f9c9b"
      },
      "source": [
        "predicts = np.argmax(predicts, axis=1)\n",
        "rounded_test=np.argmax(y_test, axis=1)\n",
        "print(metrics.confusion_matrix(rounded_test, predicts))"
      ],
      "execution_count": null,
      "outputs": [
        {
          "output_type": "stream",
          "text": [
            "[[208  14  13   7]\n",
            " [  1 206   0   0]\n",
            " [  5   0 208  27]\n",
            " [  3   1  18 289]]\n"
          ],
          "name": "stdout"
        }
      ]
    },
    {
      "cell_type": "code",
      "metadata": {
        "colab": {
          "base_uri": "https://localhost:8080/"
        },
        "id": "PurTyqFKsIsG",
        "outputId": "4fc5aaec-03f2-4f8f-80a4-20cf4f228e1f"
      },
      "source": [
        "print(metrics.classification_report(rounded_test, predicts))"
      ],
      "execution_count": null,
      "outputs": [
        {
          "output_type": "stream",
          "text": [
            "              precision    recall  f1-score   support\n",
            "\n",
            "           0       0.96      0.86      0.91       242\n",
            "           1       0.93      1.00      0.96       207\n",
            "           2       0.87      0.87      0.87       240\n",
            "           3       0.89      0.93      0.91       311\n",
            "\n",
            "    accuracy                           0.91      1000\n",
            "   macro avg       0.91      0.91      0.91      1000\n",
            "weighted avg       0.91      0.91      0.91      1000\n",
            "\n"
          ],
          "name": "stdout"
        }
      ]
    }
  ]
}