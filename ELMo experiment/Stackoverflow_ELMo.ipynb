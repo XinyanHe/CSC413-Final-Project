{
  "nbformat": 4,
  "nbformat_minor": 0,
  "metadata": {
    "colab": {
      "name": "Stackoverflow.ipynb",
      "provenance": [],
      "collapsed_sections": [],
      "machine_shape": "hm"
    },
    "kernelspec": {
      "display_name": "Python 3",
      "name": "python3"
    }
  },
  "cells": [
    {
      "cell_type": "code",
      "metadata": {
        "id": "bt-E6yU1B5JC"
      },
      "source": [
        "import pandas as pd\n",
        "#\n",
        "# https://medium.com/@duyanhnguyen_38925/create-a-strong-text-classification-with-the-help-from-elmo-e90809ba29da\n",
        "# https://www.kaggle.com/saikumar587/text-classification-elmo\n",
        "\n",
        "#import the train and test data\n",
        "url = 'https://raw.githubusercontent.com/XinyanHe/413Dataset/master/stack.csv'\n",
        "stack_data = pd.read_csv(url)\n",
        "stack_data = stack_data.head(5000)"
      ],
      "execution_count": null,
      "outputs": []
    },
    {
      "cell_type": "code",
      "metadata": {
        "id": "OSjMIoqkLMXh",
        "colab": {
          "base_uri": "https://localhost:8080/"
        },
        "outputId": "b63922d8-cd4e-46b8-eeaf-b7b81f35b2bc"
      },
      "source": [
        "#install ELMO\n",
        "import tensorflow as tf\n",
        "import tensorflow_hub as hub\n",
        "import tensorflow.compat.v1 as tf1\n",
        "import numpy as np\n",
        "\n",
        "tf1.disable_eager_execution()\n",
        "tf1.disable_v2_behavior()\n",
        "\n",
        "#download the elmo model\n",
        "elmo = hub.Module(\"https://tfhub.dev/google/elmo/3\", trainable=True)\n",
        "\n",
        "def elmo_embedding(x):\n",
        "    return elmo(tf.squeeze(tf.cast(x,tf.string)),signature='default',as_dict=True)[\"default\"]"
      ],
      "execution_count": null,
      "outputs": [
        {
          "output_type": "stream",
          "text": [
            "WARNING:tensorflow:From /usr/local/lib/python3.7/dist-packages/tensorflow/python/compat/v2_compat.py:96: disable_resource_variables (from tensorflow.python.ops.variable_scope) is deprecated and will be removed in a future version.\n",
            "Instructions for updating:\n",
            "non-resource variables are not supported in the long term\n"
          ],
          "name": "stdout"
        }
      ]
    },
    {
      "cell_type": "code",
      "metadata": {
        "id": "f6dy3yYtTWWv"
      },
      "source": [
        "from keras.layers import Input, Lambda, Dense\n",
        "from keras.models import Model\n",
        "import keras.regularizers\n",
        "\n",
        "def build_model(): \n",
        "    input_text = Input(shape=(1,), dtype=tf.string)\n",
        "    embedding = Lambda(elmo_embedding, output_shape=(1024, ))(input_text)\n",
        "    dense = Dense(256, activation='relu')(embedding)\n",
        "    pred = Dense(3, activation='softmax')(dense)\n",
        "    model = Model(inputs=[input_text], outputs=pred)\n",
        "    model.compile(loss='categorical_crossentropy', optimizer='adam', metrics=['accuracy'])\n",
        "    return model"
      ],
      "execution_count": null,
      "outputs": []
    },
    {
      "cell_type": "code",
      "metadata": {
        "id": "6CHvJq8Vr3xg"
      },
      "source": [
        "#decode and encode function\n",
        "\n",
        "def encode(le_enc, labels):\n",
        "    enc = le_enc.transform(labels)\n",
        "    return keras.utils.to_categorical(enc)\n",
        "\n",
        "def decode(le_enc, one_hot):\n",
        "    dec = np.argmax(one_hot, axis=1)\n",
        "    return le_enc.inverse_transform(dec)"
      ],
      "execution_count": null,
      "outputs": []
    },
    {
      "cell_type": "code",
      "metadata": {
        "colab": {
          "base_uri": "https://localhost:8080/"
        },
        "id": "gyK8j_3fa5XK",
        "outputId": "9d659888-356e-4c0f-bc40-e3d1ef6cb500"
      },
      "source": [
        "model_elmo = build_model()\n",
        "model_elmo.summary()"
      ],
      "execution_count": null,
      "outputs": [
        {
          "output_type": "stream",
          "text": [
            "INFO:tensorflow:Saver not created because there are no variables in the graph to restore\n"
          ],
          "name": "stdout"
        },
        {
          "output_type": "stream",
          "text": [
            "INFO:tensorflow:Saver not created because there are no variables in the graph to restore\n"
          ],
          "name": "stderr"
        },
        {
          "output_type": "stream",
          "text": [
            "Model: \"model\"\n",
            "_________________________________________________________________\n",
            "Layer (type)                 Output Shape              Param #   \n",
            "=================================================================\n",
            "input_1 (InputLayer)         [(None, 1)]               0         \n",
            "_________________________________________________________________\n",
            "lambda (Lambda)              (None, 1024)              0         \n",
            "_________________________________________________________________\n",
            "dense (Dense)                (None, 256)               262400    \n",
            "_________________________________________________________________\n",
            "dense_1 (Dense)              (None, 3)                 771       \n",
            "=================================================================\n",
            "Total params: 263,171\n",
            "Trainable params: 263,171\n",
            "Non-trainable params: 0\n",
            "_________________________________________________________________\n"
          ],
          "name": "stdout"
        }
      ]
    },
    {
      "cell_type": "code",
      "metadata": {
        "id": "F9WNiEuVre-t"
      },
      "source": [
        "from sklearn import metrics,preprocessing,model_selection\n",
        "from sklearn.metrics import accuracy_score\n",
        "from keras.utils import to_categorical\n",
        "\n",
        "X = stack_data['Body'].tolist()\n",
        "y = stack_data['Y'].tolist()\n",
        "\n",
        "#fitting the model\n",
        "\n",
        "le = preprocessing.LabelEncoder()\n",
        "le.fit(y)\n",
        "\n",
        "y_en = encode(le,y)\n",
        "x_train, x_test, y_train, y_test = model_selection.train_test_split(np.asarray(X), np.asarray(y_en), test_size=0.2, random_state=42)"
      ],
      "execution_count": null,
      "outputs": []
    },
    {
      "cell_type": "code",
      "metadata": {
        "colab": {
          "base_uri": "https://localhost:8080/"
        },
        "id": "os4UFvuBVkJ-",
        "outputId": "eb894d6c-684a-430f-e441-6684196a9c66"
      },
      "source": [
        "with tf1.Session() as session:\n",
        "    tf1.compat.v1.keras.backend.set_session(session)\n",
        "    session.run(tf1.global_variables_initializer())  \n",
        "    session.run(tf1.tables_initializer())\n",
        "    history = model_elmo.fit(x_train, y_train, epochs=2, batch_size=16)\n",
        "    model_elmo.save_weights('./response-elmo-model.h5')"
      ],
      "execution_count": null,
      "outputs": [
        {
          "output_type": "stream",
          "text": [
            "Train on 4000 samples\n",
            "Epoch 1/2\n",
            "4000/4000 [==============================] - 7084s 2s/sample - loss: 0.7380 - acc: 0.6525\n",
            "Epoch 2/2\n",
            "4000/4000 [==============================] - 7405s 2s/sample - loss: 0.5297 - acc: 0.7638\n"
          ],
          "name": "stdout"
        }
      ]
    },
    {
      "cell_type": "markdown",
      "metadata": {
        "id": "2Vx-E3ENp3RF"
      },
      "source": [
        "Run the test set."
      ]
    },
    {
      "cell_type": "code",
      "metadata": {
        "id": "__nzfjFckJ-t"
      },
      "source": [
        "with tf1.Session() as session:\n",
        "    tf1.compat.v1.keras.backend.set_session(session)\n",
        "    session.run(tf1.global_variables_initializer())  \n",
        "    session.run(tf1.tables_initializer())\n",
        "    model_elmo.load_weights('./response-elmo-model.h5')  \n",
        "    predicts  = model_elmo.predict(x_test, batch_size=16)"
      ],
      "execution_count": 16,
      "outputs": []
    },
    {
      "cell_type": "code",
      "metadata": {
        "id": "SckdGKkkV2BX"
      },
      "source": [
        "predicts = np.argmax(predicts, axis=1)\n",
        "rounded_test=np.argmax(y_test, axis=1)"
      ],
      "execution_count": 17,
      "outputs": []
    },
    {
      "cell_type": "code",
      "metadata": {
        "colab": {
          "base_uri": "https://localhost:8080/"
        },
        "id": "PurTyqFKsIsG",
        "outputId": "7d723f3a-1d62-4c1b-9cb9-dfd939e6ac94"
      },
      "source": [
        "# decode predicted labels\n",
        "print(metrics.classification_report(rounded_test, predicts))"
      ],
      "execution_count": 18,
      "outputs": [
        {
          "output_type": "stream",
          "text": [
            "              precision    recall  f1-score   support\n",
            "\n",
            "           0       0.74      0.88      0.80       416\n",
            "           1       0.78      0.56      0.65       335\n",
            "           2       0.88      0.94      0.91       249\n",
            "\n",
            "    accuracy                           0.79      1000\n",
            "   macro avg       0.80      0.79      0.79      1000\n",
            "weighted avg       0.79      0.79      0.78      1000\n",
            "\n"
          ],
          "name": "stdout"
        }
      ]
    }
  ]
}