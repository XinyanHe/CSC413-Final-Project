{
  "nbformat": 4,
  "nbformat_minor": 0,
  "metadata": {
    "colab": {
      "name": "IMDB_ELMo.ipynb",
      "provenance": [],
      "collapsed_sections": [],
      "toc_visible": true,
      "machine_shape": "hm"
    },
    "kernelspec": {
      "display_name": "Python 3",
      "name": "python3"
    }
  },
  "cells": [
    {
      "cell_type": "code",
      "metadata": {
        "id": "bt-E6yU1B5JC"
      },
      "source": [
        "# Code reference: \n",
        "# https://medium.com/@duyanhnguyen_38925/create-a-strong-text-classification-with-the-help-from-elmo-e90809ba29da\n",
        "\n",
        "import pandas as pd\n",
        "\n",
        "data_url = 'https://raw.githubusercontent.com/XinyanHe/413Dataset/master/train.csv'\n",
        "data_df = pd.read_csv(data_url)\n",
        "#import the dataset\n",
        "data_df = data_df.head(1500)\n"
      ],
      "execution_count": null,
      "outputs": []
    },
    {
      "cell_type": "code",
      "metadata": {
        "colab": {
          "base_uri": "https://localhost:8080/"
        },
        "id": "OSjMIoqkLMXh",
        "outputId": "8a0a8097-d571-450c-828d-843bdfb3bf10"
      },
      "source": [
        "import tensorflow as tf\n",
        "import tensorflow_hub as hub\n",
        "import tensorflow.compat.v1 as tf1\n",
        "import numpy as np\n",
        "\n",
        "tf1.disable_eager_execution()\n",
        "tf1.disable_v2_behavior()\n",
        "\n",
        "#import the elmo model\n",
        "elmo = hub.Module(\"https://tfhub.dev/google/elmo/3\", trainable=True)\n",
        "\n",
        "#create an embedding layer for elmo\n",
        "def elmo_embedding(x):\n",
        "    return elmo(tf.squeeze(tf.cast(x,tf.string)),signature='default',as_dict=True)[\"default\"]"
      ],
      "execution_count": null,
      "outputs": [
        {
          "output_type": "stream",
          "text": [
            "WARNING:tensorflow:From /usr/local/lib/python3.7/dist-packages/tensorflow/python/compat/v2_compat.py:96: disable_resource_variables (from tensorflow.python.ops.variable_scope) is deprecated and will be removed in a future version.\n",
            "Instructions for updating:\n",
            "non-resource variables are not supported in the long term\n"
          ],
          "name": "stdout"
        }
      ]
    },
    {
      "cell_type": "code",
      "metadata": {
        "id": "f6dy3yYtTWWv"
      },
      "source": [
        "\n",
        "from keras.layers import Input, Lambda, Dense\n",
        "from keras.models import Model\n",
        "\n",
        "def build_model(): \n",
        "    input_text = Input(shape=(1,), dtype=tf.string)\n",
        "    embedding = Lambda(elmo_embedding, output_shape=(1024, ))(input_text)\n",
        "    dense = Dense(256, activation='relu')(embedding)\n",
        "    pred = Dense(2, activation='softmax')(dense)\n",
        "    model = Model(inputs=[input_text], outputs=pred)\n",
        "    model.compile(loss='categorical_crossentropy', optimizer='adam', metrics=['accuracy'])\n",
        "    return model"
      ],
      "execution_count": null,
      "outputs": []
    },
    {
      "cell_type": "code",
      "metadata": {
        "colab": {
          "base_uri": "https://localhost:8080/"
        },
        "id": "gyK8j_3fa5XK",
        "outputId": "28b73dc8-6a11-4ac0-dfc1-1c113ac71880"
      },
      "source": [
        "#build our classification model\n",
        "model_elmo = build_model()\n",
        "model_elmo.summary()"
      ],
      "execution_count": null,
      "outputs": [
        {
          "output_type": "stream",
          "text": [
            "INFO:tensorflow:Saver not created because there are no variables in the graph to restore\n"
          ],
          "name": "stdout"
        },
        {
          "output_type": "stream",
          "text": [
            "INFO:tensorflow:Saver not created because there are no variables in the graph to restore\n"
          ],
          "name": "stderr"
        },
        {
          "output_type": "stream",
          "text": [
            "Model: \"model\"\n",
            "_________________________________________________________________\n",
            "Layer (type)                 Output Shape              Param #   \n",
            "=================================================================\n",
            "input_1 (InputLayer)         [(None, 1)]               0         \n",
            "_________________________________________________________________\n",
            "lambda (Lambda)              (None, 1024)              0         \n",
            "_________________________________________________________________\n",
            "dense (Dense)                (None, 256)               262400    \n",
            "_________________________________________________________________\n",
            "dense_1 (Dense)              (None, 2)                 514       \n",
            "=================================================================\n",
            "Total params: 262,914\n",
            "Trainable params: 262,914\n",
            "Non-trainable params: 0\n",
            "_________________________________________________________________\n"
          ],
          "name": "stdout"
        }
      ]
    },
    {
      "cell_type": "code",
      "metadata": {
        "id": "F9WNiEuVre-t"
      },
      "source": [
        "from sklearn import metrics,preprocessing,model_selection\n",
        "from sklearn.metrics import accuracy_score\n",
        "from keras.utils import to_categorical\n",
        "\n",
        "X = data_df['DATA_COLUMN'].tolist()\n",
        "y = data_df['LABEL_COLUMN'].tolist()\n",
        "# split our data into train and test dataset\n",
        "x_train, x_test, y_train, y_test = model_selection.train_test_split(np.asarray(X), np.asarray(y), test_size=0.2, random_state=42)\n",
        "y_train = to_categorical(y_train)"
      ],
      "execution_count": null,
      "outputs": []
    },
    {
      "cell_type": "code",
      "metadata": {
        "colab": {
          "background_save": true,
          "base_uri": "https://localhost:8080/"
        },
        "id": "os4UFvuBVkJ-",
        "outputId": "cfeb677a-7c07-4f6d-998c-733b3d662c07"
      },
      "source": [
        "with tf1.Session() as session:\n",
        "    tf1.compat.v1.keras.backend.set_session(session)\n",
        "    session.run(tf1.global_variables_initializer())  \n",
        "    session.run(tf1.tables_initializer())\n",
        "    history = model_elmo.fit(x_train, y_train, epochs=2, batch_size=16)\n",
        "    model_elmo.save_weights('./response-elmo-model.h5')"
      ],
      "execution_count": null,
      "outputs": [
        {
          "output_type": "stream",
          "text": [
            "Train on 1200 samples\n",
            "Epoch 1/2\n",
            "1200/1200 [==============================] - 3504s 3s/sample - loss: 0.5304 - acc: 0.7425\n",
            "Epoch 2/2\n",
            "1200/1200 [==============================] - 2584s 2s/sample - loss: 0.4116 - acc: 0.8150\n"
          ],
          "name": "stdout"
        }
      ]
    },
    {
      "cell_type": "code",
      "metadata": {
        "id": "iw10mmjHkToo",
        "colab": {
          "base_uri": "https://localhost:8080/"
        },
        "outputId": "e7d82a0c-1eb7-4198-f420-6d22a53f7f54"
      },
      "source": [
        "with tf1.Session() as session:\n",
        "    tf1.compat.v1.keras.backend.set_session(session)\n",
        "    session.run(tf1.global_variables_initializer())  \n",
        "    session.run(tf1.tables_initializer())\n",
        "    model_elmo.load_weights('./response-elmo-model.h5')  \n",
        "    predicts  = model_elmo.predict(x_test, batch_size=16)"
      ],
      "execution_count": null,
      "outputs": [
        {
          "output_type": "stream",
          "text": [
            "/usr/local/lib/python3.7/dist-packages/tensorflow/python/keras/engine/training.py:2325: UserWarning: `Model.state_updates` will be removed in a future version. This property should not be used in TensorFlow 2.0, as `updates` are applied automatically.\n",
            "  warnings.warn('`Model.state_updates` will be removed in a future version. '\n"
          ],
          "name": "stderr"
        }
      ]
    },
    {
      "cell_type": "code",
      "metadata": {
        "id": "TnYnjvKS9UWM",
        "colab": {
          "base_uri": "https://localhost:8080/"
        },
        "outputId": "83c5a524-fc6b-4223-dbd6-a04878af705c"
      },
      "source": [
        "print(metrics.confusion_matrix(y_test, predicts))"
      ],
      "execution_count": null,
      "outputs": [
        {
          "output_type": "stream",
          "text": [
            "[[127  24]\n",
            " [ 23 126]]\n"
          ],
          "name": "stdout"
        }
      ]
    },
    {
      "cell_type": "code",
      "metadata": {
        "colab": {
          "base_uri": "https://localhost:8080/"
        },
        "id": "RapVrTTDDSUE",
        "outputId": "e77778a3-d9d4-43b5-f2ae-1baf20a7c5dc"
      },
      "source": [
        "#get the result matrix \n",
        "print(metrics.classification_report(y_test, predicts))"
      ],
      "execution_count": null,
      "outputs": [
        {
          "output_type": "stream",
          "text": [
            "              precision    recall  f1-score   support\n",
            "\n",
            "           0       0.85      0.84      0.84       151\n",
            "           1       0.84      0.85      0.84       149\n",
            "\n",
            "    accuracy                           0.84       300\n",
            "   macro avg       0.84      0.84      0.84       300\n",
            "weighted avg       0.84      0.84      0.84       300\n",
            "\n"
          ],
          "name": "stdout"
        }
      ]
    }
  ]
}